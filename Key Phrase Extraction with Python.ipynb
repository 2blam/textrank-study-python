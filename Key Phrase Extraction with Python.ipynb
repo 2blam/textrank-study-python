{
 "cells": [
  {
   "cell_type": "markdown",
   "metadata": {},
   "source": [
    "# A Study of the TextRank Algorithm in Python\n",
    "\n",
    "[TextRank](http://web.eecs.umich.edu/~mihalcea/papers/mihalcea.emnlp04.pdf) is\n",
    "a key phrase and sentence extraction algorithm based on\n",
    "[PageRank](http://ilpubs.stanford.edu:8090/422/1/1999-66.pdf). I've made an\n",
    "IPython notebook to demonstrate how to implement it using the\n",
    "[networkx](https://networkx.github.io/) and\n",
    "[NLTK](http://www.nltk.org/) packages. I also use\n",
    "[matplotlib](http://matplotlib.org/) to visualize the graph.\n"
   ]
  },
  {
   "cell_type": "markdown",
   "metadata": {},
   "source": [
    "## Setup\n",
    "\n",
    "First, let's import NLTK, and make sure that we have the NLTK packages we need."
   ]
  },
  {
   "cell_type": "code",
   "execution_count": 1,
   "metadata": {
    "collapsed": true
   },
   "outputs": [],
   "source": [
    "import nltk"
   ]
  },
  {
   "cell_type": "code",
   "execution_count": 2,
   "metadata": {
    "collapsed": false
   },
   "outputs": [
    {
     "name": "stdout",
     "output_type": "stream",
     "text": [
      "[nltk_data] Downloading package stopwords to\n",
      "[nltk_data]     /Users/lukhnos/nltk_data...\n",
      "[nltk_data]   Unzipping corpora/stopwords.zip.\n",
      "[nltk_data] Downloading package punkt to /Users/lukhnos/nltk_data...\n",
      "[nltk_data]   Unzipping tokenizers/punkt.zip.\n",
      "[nltk_data] Downloading package maxent_treebank_pos_tagger to\n",
      "[nltk_data]     /Users/lukhnos/nltk_data...\n",
      "[nltk_data]   Unzipping taggers/maxent_treebank_pos_tagger.zip.\n"
     ]
    }
   ],
   "source": [
    "# Install the following packages. This may take a few seconds if you haven't had them installed.\n",
    "packages = (\n",
    "    \"stopwords\",  # for stopwords definition\n",
    "    \"punkt\",  # for tokenizing sentences\n",
    "    \"maxent_treebank_pos_tagger\",  # for part-of-speech (POS) tagging\n",
    ")\n",
    "\n",
    "for package in packages:\n",
    "    nltk.download(package)"
   ]
  },
  {
   "cell_type": "code",
   "execution_count": 3,
   "metadata": {
    "collapsed": false
   },
   "outputs": [
    {
     "name": "stdout",
     "output_type": "stream",
     "text": [
      "run\n",
      "['Python', 'is', 'a', 'programming', 'language', '.']\n",
      "[('Python', 'NNP'), ('is', 'VBZ'), ('a', 'DT'), ('programming', 'NN'), ('language', 'NN'), ('.', '.')]\n"
     ]
    }
   ],
   "source": [
    "# Let's make sure that we have the tools we need.\n",
    "from nltk.stem import SnowballStemmer\n",
    "stemmer = SnowballStemmer('english', ignore_stopwords=False)\n",
    "\n",
    "print(stemmer.stem('running'))\n",
    "test_sentence = 'Python is a programming language.'\n",
    "tokens = nltk.word_tokenize(test_sentence)\n",
    "print(tokens)\n",
    "print(nltk.pos_tag(tokens))"
   ]
  },
  {
   "cell_type": "code",
   "execution_count": 4,
   "metadata": {
    "collapsed": true
   },
   "outputs": [],
   "source": [
    "# Now let's extract some text. This is from Wikipedia: https://en.wikipedia.org/wiki/Python_(programming_language)\n",
    "text = \"\"\"\n",
    "Python is a widely used general-purpose, high-level programming language.[19][20][21] Its design philosophy emphasizes code readability, and its syntax allows programmers to express concepts in fewer lines of code than would be possible in languages such as C++ or Java.[22][23] The language provides constructs intended to enable clear programs on both a small and large scale.[24]\n",
    "Python supports multiple programming paradigms, including object-oriented, imperative and functional programming or procedural styles. It features a dynamic type system and automatic memory management and has a large and comprehensive standard library.[25]\n",
    "Python interpreters are available for installation on many operating systems, allowing Python code execution on a wide variety of systems. Using third-party tools, such as Py2exe or Pyinstaller,[26] Python code can be packaged into stand-alone executable programs for some of the most popular operating systems, allowing for the distribution of Python-based software for use on those environments without requiring the installation of a Python interpreter.\n",
    "CPython, the reference implementation of Python, is free and open-source software and has a community-based development model, as do nearly all of its alternative implementations. CPython is managed by the non-profit Python Software Foundation.\n",
    "Python was conceived in the late 1980s[27] and its implementation was started in December 1989[28] by Guido van Rossum at CWI in the Netherlands as a successor to the ABC language (itself inspired by SETL)[29] capable of exception handling and interfacing with the Amoeba operating system.[5] Van Rossum is Python's principal author, and his continuing central role in deciding the direction of Python is reflected in the title given to him by the Python community, benevolent dictator for life (BDFL).\n",
    "About the origin of Python, Van Rossum wrote in 1996:[30]\n",
    "Over six years ago, in December 1989, I was looking for a \"hobby\" programming project that would keep me occupied during the week around Christmas. My office ... would be closed, but I had a home computer, and not much else on my hands. I decided to write an interpreter for the new scripting language I had been thinking about lately: a descendant of ABC that would appeal to Unix/C hackers. I chose Python as a working title for the project, being in a slightly irreverent mood (and a big fan of Monty Python's Flying Circus).\n",
    "Python 2.0 was released on 16 October 2000, and included many major new features including a full garbage collector and support for Unicode. With this release the development process was changed and became more transparent and community-backed.[31]\n",
    "Python 3.0 (also called Python 3000 or py3k), a major, backwards-incompatible release, was released on 3 December 2008[32] after a long period of testing. Many of its major features have been backported to the backwards-compatible Python 2.6 and 2.7.[33]\n",
    "\"\"\""
   ]
  },
  {
   "cell_type": "code",
   "execution_count": 5,
   "metadata": {
    "collapsed": false
   },
   "outputs": [
    {
     "name": "stdout",
     "output_type": "stream",
     "text": [
      "['Python', 'is', 'a', 'widely', 'used', 'general-purpose', ',', 'high-level', 'programming', 'language', '.', '[', '19', ']', '[', '20', ']', '[', '21', ']']\n"
     ]
    }
   ],
   "source": [
    "# Let's tokenize the text.\n",
    "tokens = nltk.word_tokenize(text)\n",
    "print(tokens[:20])"
   ]
  },
  {
   "cell_type": "code",
   "execution_count": 6,
   "metadata": {
    "collapsed": false
   },
   "outputs": [],
   "source": [
    "# Now let's tag the tokens with a part-of-speech (POS) tagger.\n",
    "pos_tagged_tokens = nltk.pos_tag(tokens)"
   ]
  },
  {
   "cell_type": "code",
   "execution_count": 7,
   "metadata": {
    "collapsed": true
   },
   "outputs": [],
   "source": [
    "# Before we build the graph, we need some helper functions.\n",
    "import re\n",
    "def is_word(token):\n",
    "    return re.match(r'^[A-Za-z].+', token)\n",
    "\n",
    "# We only take nouns and adjectives.\n",
    "ACCEPTED_TAGS = {'NN', 'NNS', 'NNP', 'JJ'}\n",
    "\n",
    "def is_good_token(token):\n",
    "    return token[1] in ACCEPTED_TAGS\n",
    "    \n",
    "def normalized_token(token):\n",
    "    return stemmer.stem(token.lower())"
   ]
  },
  {
   "cell_type": "code",
   "execution_count": 8,
   "metadata": {
    "collapsed": false
   },
   "outputs": [],
   "source": [
    "# Now let's build the graph.\n",
    "import networkx\n",
    "graph = networkx.Graph()\n",
    "\n",
    "tagged_bigrams = nltk.ngrams(pos_tagged_tokens, 2)\n",
    "for tagged_bigram in tagged_bigrams:\n",
    "    if all(is_good_token(tagged_token) for tagged_token in tagged_bigram):\n",
    "        normalized_bigram = [normalized_token(tagged_gram[0]) for tagged_gram in tagged_bigram]\n",
    "        graph.add_edge(*normalized_bigram)"
   ]
  },
  {
   "cell_type": "code",
   "execution_count": 9,
   "metadata": {
    "collapsed": false
   },
   "outputs": [],
   "source": [
    "# Let's do the pagerank.\n",
    "pagerank = networkx.pagerank(graph)"
   ]
  },
  {
   "cell_type": "code",
   "execution_count": 10,
   "metadata": {
    "collapsed": true
   },
   "outputs": [],
   "source": [
    "# Then sort the nodes according to the rank.\n",
    "sorted_ranked_nodes = sorted(pagerank.items(), key=lambda ns_pair: ns_pair[1], reverse=True)"
   ]
  },
  {
   "cell_type": "code",
   "execution_count": 11,
   "metadata": {
    "collapsed": false
   },
   "outputs": [
    {
     "data": {
      "text/plain": [
       "97"
      ]
     },
     "execution_count": 11,
     "metadata": {},
     "output_type": "execute_result"
    }
   ],
   "source": [
    "# How many are there?\n",
    "len(sorted_ranked_nodes)"
   ]
  },
  {
   "cell_type": "code",
   "execution_count": 12,
   "metadata": {
    "collapsed": true
   },
   "outputs": [],
   "source": [
    "# We only keep 20% of the nodes.\n",
    "selectivity = 0.20\n",
    "remove_count = int(len(sorted_ranked_nodes) * selectivity)"
   ]
  },
  {
   "cell_type": "code",
   "execution_count": 13,
   "metadata": {
    "collapsed": true
   },
   "outputs": [],
   "source": [
    "# Now remove the nodes we don't need.\n",
    "for node, _ in sorted_ranked_nodes[remove_count:]:\n",
    "    graph.remove_node(node)"
   ]
  },
  {
   "cell_type": "code",
   "execution_count": 14,
   "metadata": {
    "collapsed": false
   },
   "outputs": [
    {
     "data": {
      "text/plain": [
       "19"
      ]
     },
     "execution_count": 14,
     "metadata": {},
     "output_type": "execute_result"
    }
   ],
   "source": [
    "# Let's see how many are left.\n",
    "len(graph)"
   ]
  },
  {
   "cell_type": "code",
   "execution_count": 17,
   "metadata": {
    "collapsed": false
   },
   "outputs": [
    {
     "data": {
      "image/png": "[encoded data removed]",
      "text/plain": [
       "<matplotlib.figure.Figure at 0x10e6c6240>"
      ]
     },
     "metadata": {},
     "output_type": "display_data"
    }
   ],
   "source": [
    "# Let's visualize it.\n",
    "%matplotlib inline\n",
    "import matplotlib\n",
    "matplotlib.rcParams['figure.figsize'] = (10.0, 8.5)\n",
    "networkx.draw_networkx(graph)"
   ]
  },
  {
   "cell_type": "code",
   "execution_count": 18,
   "metadata": {
    "collapsed": false
   },
   "outputs": [
    {
     "name": "stdout",
     "output_type": "stream",
     "text": [
      "programming language\n",
      "Python code\n",
      "code execution\n",
      "Python code\n",
      "executable programs\n",
      "Python Software\n",
      "major new\n"
     ]
    }
   ],
   "source": [
    "# Now let's run the text with the graph.\n",
    "edge_set = graph.edge\n",
    "for n in range(2, 5):\n",
    "    for ngram in nltk.ngrams(tokens, n):\n",
    "        if all(is_word(gram) for gram in ngram):\n",
    "            first, last = normalized_token(ngram[0]), normalized_token(ngram[-1])\n",
    "            \n",
    "            if first in edge_set and last in edge_set[first]:\n",
    "                print(' '.join(ngram))"
   ]
  },
  {
   "cell_type": "code",
   "execution_count": null,
   "metadata": {
    "collapsed": true
   },
   "outputs": [],
   "source": []
  }
 ],
 "metadata": {
  "kernelspec": {
   "display_name": "Python 3",
   "language": "python",
   "name": "python3"
  },
  "language_info": {
   "codemirror_mode": {
    "name": "ipython",
    "version": 3
   },
   "file_extension": ".py",
   "mimetype": "text/x-python",
   "name": "python",
   "nbconvert_exporter": "python",
   "pygments_lexer": "ipython3",
   "version": "3.4.3"
  }
 },
 "nbformat": 4,
 "nbformat_minor": 0
}
